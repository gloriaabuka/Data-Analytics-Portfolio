{
  "cells": [
    {
      "cell_type": "markdown",
      "source": [
        "This notebook contains the preprocessing steps of the text column of a dataset that I scrapped from 3 Subreddit groups (r/Jobs, r/resume, and r/careers) on the Reddit social media platform. This data will be analysized to gain insight into this group's discussions.\n",
        "\n",
        "This is the first of a series of Notebooks that will be uploaded as this project progresses."
      ],
      "metadata": {
        "id": "2JwJZNBfI8HQ"
      }
    },
    {
      "cell_type": "code",
      "execution_count": null,
      "metadata": {
        "id": "jn0fxvCATahx"
      },
      "outputs": [],
      "source": [
        "#Including neccesary libraries\n",
        "import pandas as pd\n",
        "import numpy as np\n",
        "import pandas as pd\n",
        "import re\n",
        "import nltk\n",
        "from nltk.corpus import stopwords\n",
        "from nltk.stem import WordNetLemmatizer\n"
      ]
    },
    {
      "cell_type": "code",
      "source": [
        "nltk.download('stopwords')\n",
        "nltk.download('wordnet')\n",
        "nltk.download('punkt')\n"
      ],
      "metadata": {
        "colab": {
          "base_uri": "https://localhost:8080/"
        },
        "id": "naVC6gB3Ep--",
        "outputId": "bcf003d8-ac25-4f95-9f20-d63bab3f3254"
      },
      "execution_count": null,
      "outputs": [
        {
          "output_type": "stream",
          "name": "stderr",
          "text": [
            "[nltk_data] Downloading package stopwords to /root/nltk_data...\n",
            "[nltk_data]   Unzipping corpora/stopwords.zip.\n",
            "[nltk_data] Downloading package wordnet to /root/nltk_data...\n",
            "[nltk_data] Downloading package punkt to /root/nltk_data...\n",
            "[nltk_data]   Unzipping tokenizers/punkt.zip.\n"
          ]
        },
        {
          "output_type": "execute_result",
          "data": {
            "text/plain": [
              "True"
            ]
          },
          "metadata": {},
          "execution_count": 2
        }
      ]
    },
    {
      "cell_type": "code",
      "execution_count": null,
      "metadata": {
        "id": "jte_uSY-Ti_c"
      },
      "outputs": [],
      "source": [
        "\n",
        "#Read in data and convert to a pandas dataframe\n",
        "df_Jobs = pd.read_csv('/content/combined_data.csv')\n"
      ]
    },
    {
      "cell_type": "code",
      "execution_count": null,
      "metadata": {
        "colab": {
          "base_uri": "https://localhost:8080/"
        },
        "id": "qTeDB9IHVe9y",
        "outputId": "ea698920-42c3-43e7-c83c-6e577a0f4a9e"
      },
      "outputs": [
        {
          "output_type": "stream",
          "name": "stdout",
          "text": [
            "<class 'pandas.core.frame.DataFrame'>\n",
            "RangeIndex: 2840 entries, 0 to 2839\n",
            "Data columns (total 7 columns):\n",
            " #   Column        Non-Null Count  Dtype  \n",
            "---  ------        --------------  -----  \n",
            " 0   Unnamed: 0    2840 non-null   object \n",
            " 1   title         2832 non-null   object \n",
            " 2   Text          2318 non-null   object \n",
            " 3   score         2831 non-null   object \n",
            " 4   num_comments  2831 non-null   float64\n",
            " 5   post_id       2830 non-null   object \n",
            " 6   post_time     2830 non-null   float64\n",
            "dtypes: float64(2), object(5)\n",
            "memory usage: 155.4+ KB\n"
          ]
        }
      ],
      "source": [
        "#Information about the dataframe\n",
        "df_Jobs.info()"
      ]
    },
    {
      "cell_type": "code",
      "execution_count": null,
      "metadata": {
        "id": "8MWpTMUX90Q5"
      },
      "outputs": [],
      "source": [
        "#Remove rows with missing data\n",
        "df_Jobs = df_Jobs.dropna()"
      ]
    },
    {
      "cell_type": "code",
      "execution_count": null,
      "metadata": {
        "colab": {
          "base_uri": "https://localhost:8080/"
        },
        "id": "3q9j_3k49-DT",
        "outputId": "2945116f-e02a-43bc-e9d1-519b847b33d0"
      },
      "outputs": [
        {
          "output_type": "stream",
          "name": "stdout",
          "text": [
            "<class 'pandas.core.frame.DataFrame'>\n",
            "Int64Index: 2317 entries, 0 to 2839\n",
            "Data columns (total 7 columns):\n",
            " #   Column        Non-Null Count  Dtype  \n",
            "---  ------        --------------  -----  \n",
            " 0   Unnamed: 0    2317 non-null   object \n",
            " 1   title         2317 non-null   object \n",
            " 2   Text          2317 non-null   object \n",
            " 3   score         2317 non-null   object \n",
            " 4   num_comments  2317 non-null   float64\n",
            " 5   post_id       2317 non-null   object \n",
            " 6   post_time     2317 non-null   float64\n",
            "dtypes: float64(2), object(5)\n",
            "memory usage: 144.8+ KB\n"
          ]
        }
      ],
      "source": [
        "#Check info afterwards to ensure the previous step was carried out\n",
        "df_Jobs.info()"
      ]
    },
    {
      "cell_type": "code",
      "execution_count": null,
      "metadata": {
        "colab": {
          "base_uri": "https://localhost:8080/"
        },
        "id": "3UB4fug3Vn4h",
        "outputId": "5c40b85c-6463-4f02-e752-1f6a8b09a119"
      },
      "outputs": [
        {
          "output_type": "stream",
          "name": "stdout",
          "text": [
            "<class 'pandas.core.frame.DataFrame'>\n",
            "Int64Index: 2317 entries, 0 to 2839\n",
            "Data columns (total 5 columns):\n",
            " #   Column        Non-Null Count  Dtype  \n",
            "---  ------        --------------  -----  \n",
            " 0   title         2317 non-null   object \n",
            " 1   Text          2317 non-null   object \n",
            " 2   score         2317 non-null   object \n",
            " 3   num_comments  2317 non-null   float64\n",
            " 4   post_time     2317 non-null   float64\n",
            "dtypes: float64(2), object(3)\n",
            "memory usage: 108.6+ KB\n"
          ]
        }
      ],
      "source": [
        "#Remove the Unnamed: 0 and post_id(To ensure annonymity of the post) columns\n",
        "df_Jobs = df_Jobs.drop(['Unnamed: 0', 'post_id'], axis=1)\n",
        "\n",
        "df_Jobs.info()"
      ]
    },
    {
      "cell_type": "code",
      "source": [
        "#The function performs various preprocessing steps on the Text\n",
        "def preprocess_text(text):\n",
        "    # Convert to lowercase\n",
        "    text = text.lower()\n",
        "\n",
        "    # Remove URLs\n",
        "    text = re.sub(r\"http\\S+|www\\S+|https\\S+\", '', text, flags=re.MULTILINE)\n",
        "\n",
        "    # Convert emojis to text\n",
        "    emoji_pattern = re.compile(\"[\"\n",
        "                               u\"\\U0001F600-\\U0001F64F\"  # emoticons\n",
        "                               u\"\\U0001F300-\\U0001F5FF\"  # symbols & pictographs\n",
        "                               u\"\\U0001F680-\\U0001F6FF\"  # transport & map symbols\n",
        "                               u\"\\U0001F1E0-\\U0001F1FF\"  # flags (iOS)\n",
        "                               u\"\\U00002500-\\U00002BEF\"  # chinese char\n",
        "                               u\"\\U00002702-\\U000027B0\"\n",
        "                               u\"\\U00002702-\\U000027B0\"\n",
        "                               u\"\\U000024C2-\\U0001F251\"\n",
        "                               u\"\\U0001f926-\\U0001f937\"\n",
        "                               u\"\\U00010000-\\U0010ffff\"\n",
        "                               u\"\\u2640-\\u2642\"\n",
        "                               u\"\\u2600-\\u2B55\"\n",
        "                               u\"\\u200d\"\n",
        "                               u\"\\u23cf\"\n",
        "                               u\"\\u23e9\"\n",
        "                               u\"\\u231a\"\n",
        "                               u\"\\ufe0f\"  # dingbats\n",
        "                               u\"\\u3030\"\n",
        "                               \"]+\", flags=re.UNICODE)\n",
        "    text = emoji_pattern.sub(r'', text)\n",
        "\n",
        "    # Remove stopwords\n",
        "    stop_words = set(stopwords.words('english'))\n",
        "    tokens = nltk.word_tokenize(text)\n",
        "    tokens = [word for word in tokens if word not in stop_words]\n",
        "\n",
        "    # Lemmatization\n",
        "    lemmatizer = WordNetLemmatizer()\n",
        "    tokens = [lemmatizer.lemmatize(token) for token in tokens]\n",
        "\n",
        "    # Remove single-letter words\n",
        "    tokens = [word for word in tokens if len(word) > 2]\n",
        "\n",
        "    # Join the tokens back into a single string\n",
        "    preprocessed_text = ' '.join(tokens)\n",
        "\n",
        "    return preprocessed_text\n",
        "\n",
        "\n"
      ],
      "metadata": {
        "id": "_ocuCKebDXe8"
      },
      "execution_count": null,
      "outputs": []
    },
    {
      "cell_type": "code",
      "source": [
        "# Apply preprocessing function to create a new column 'preprocessed_text'\n",
        "df_Jobs['preprocessed_text'] = df_Jobs['Text'].apply(preprocess_text)"
      ],
      "metadata": {
        "id": "kyO8tHMsDf4v"
      },
      "execution_count": null,
      "outputs": []
    },
    {
      "cell_type": "code",
      "source": [
        "#Take a look at the first five rows\n",
        "df_Jobs.head()"
      ],
      "metadata": {
        "colab": {
          "base_uri": "https://localhost:8080/",
          "height": 337
        },
        "id": "YFixJKwjD11f",
        "outputId": "40789db3-ea58-4adf-bf08-bced99b5d723"
      },
      "execution_count": null,
      "outputs": [
        {
          "output_type": "execute_result",
          "data": {
            "text/plain": [
              "                                               title  \\\n",
              "0  Success and Disappointment Megathread for the ...   \n",
              "1                          New moderator recruitment   \n",
              "2  What are these \"I finish work in 2 hours and j...   \n",
              "3                   Nobody wants to help you anymore   \n",
              "4            after six months - FINALLY! keep going!   \n",
              "\n",
              "                                                Text score  num_comments  \\\n",
              "0   This is the weekly success and disappointment...    17          75.0   \n",
              "1  Are you a current active community member? Int...     4           0.0   \n",
              "2  I'm currently in a business development role w...  2297         941.0   \n",
              "3  Decades ago, when you started a new job, you w...   242          59.0   \n",
              "4  I was laid off from a very large mortgage comp...    44           5.0   \n",
              "\n",
              "      post_time                                  preprocessed_text  \n",
              "0  1.686524e+09  weekly success disappointment megathread week ...  \n",
              "1  1.688062e+09  current active community member interested hel...  \n",
              "2  1.688123e+09  currently business development role constant w...  \n",
              "3  1.688148e+09  decade ago started new job would trained also ...  \n",
              "4  1.688152e+09  laid large mortgage company get trouble lot .....  "
            ],
            "text/html": [
              "\n",
              "\n",
              "  <div id=\"df-d250572a-5fb9-4fac-91d0-e1633b617738\">\n",
              "    <div class=\"colab-df-container\">\n",
              "      <div>\n",
              "<style scoped>\n",
              "    .dataframe tbody tr th:only-of-type {\n",
              "        vertical-align: middle;\n",
              "    }\n",
              "\n",
              "    .dataframe tbody tr th {\n",
              "        vertical-align: top;\n",
              "    }\n",
              "\n",
              "    .dataframe thead th {\n",
              "        text-align: right;\n",
              "    }\n",
              "</style>\n",
              "<table border=\"1\" class=\"dataframe\">\n",
              "  <thead>\n",
              "    <tr style=\"text-align: right;\">\n",
              "      <th></th>\n",
              "      <th>title</th>\n",
              "      <th>Text</th>\n",
              "      <th>score</th>\n",
              "      <th>num_comments</th>\n",
              "      <th>post_time</th>\n",
              "      <th>preprocessed_text</th>\n",
              "    </tr>\n",
              "  </thead>\n",
              "  <tbody>\n",
              "    <tr>\n",
              "      <th>0</th>\n",
              "      <td>Success and Disappointment Megathread for the ...</td>\n",
              "      <td>This is the weekly success and disappointment...</td>\n",
              "      <td>17</td>\n",
              "      <td>75.0</td>\n",
              "      <td>1.686524e+09</td>\n",
              "      <td>weekly success disappointment megathread week ...</td>\n",
              "    </tr>\n",
              "    <tr>\n",
              "      <th>1</th>\n",
              "      <td>New moderator recruitment</td>\n",
              "      <td>Are you a current active community member? Int...</td>\n",
              "      <td>4</td>\n",
              "      <td>0.0</td>\n",
              "      <td>1.688062e+09</td>\n",
              "      <td>current active community member interested hel...</td>\n",
              "    </tr>\n",
              "    <tr>\n",
              "      <th>2</th>\n",
              "      <td>What are these \"I finish work in 2 hours and j...</td>\n",
              "      <td>I'm currently in a business development role w...</td>\n",
              "      <td>2297</td>\n",
              "      <td>941.0</td>\n",
              "      <td>1.688123e+09</td>\n",
              "      <td>currently business development role constant w...</td>\n",
              "    </tr>\n",
              "    <tr>\n",
              "      <th>3</th>\n",
              "      <td>Nobody wants to help you anymore</td>\n",
              "      <td>Decades ago, when you started a new job, you w...</td>\n",
              "      <td>242</td>\n",
              "      <td>59.0</td>\n",
              "      <td>1.688148e+09</td>\n",
              "      <td>decade ago started new job would trained also ...</td>\n",
              "    </tr>\n",
              "    <tr>\n",
              "      <th>4</th>\n",
              "      <td>after six months - FINALLY! keep going!</td>\n",
              "      <td>I was laid off from a very large mortgage comp...</td>\n",
              "      <td>44</td>\n",
              "      <td>5.0</td>\n",
              "      <td>1.688152e+09</td>\n",
              "      <td>laid large mortgage company get trouble lot .....</td>\n",
              "    </tr>\n",
              "  </tbody>\n",
              "</table>\n",
              "</div>\n",
              "      <button class=\"colab-df-convert\" onclick=\"convertToInteractive('df-d250572a-5fb9-4fac-91d0-e1633b617738')\"\n",
              "              title=\"Convert this dataframe to an interactive table.\"\n",
              "              style=\"display:none;\">\n",
              "\n",
              "  <svg xmlns=\"http://www.w3.org/2000/svg\" height=\"24px\"viewBox=\"0 0 24 24\"\n",
              "       width=\"24px\">\n",
              "    <path d=\"M0 0h24v24H0V0z\" fill=\"none\"/>\n",
              "    <path d=\"M18.56 5.44l.94 2.06.94-2.06 2.06-.94-2.06-.94-.94-2.06-.94 2.06-2.06.94zm-11 1L8.5 8.5l.94-2.06 2.06-.94-2.06-.94L8.5 2.5l-.94 2.06-2.06.94zm10 10l.94 2.06.94-2.06 2.06-.94-2.06-.94-.94-2.06-.94 2.06-2.06.94z\"/><path d=\"M17.41 7.96l-1.37-1.37c-.4-.4-.92-.59-1.43-.59-.52 0-1.04.2-1.43.59L10.3 9.45l-7.72 7.72c-.78.78-.78 2.05 0 2.83L4 21.41c.39.39.9.59 1.41.59.51 0 1.02-.2 1.41-.59l7.78-7.78 2.81-2.81c.8-.78.8-2.07 0-2.86zM5.41 20L4 18.59l7.72-7.72 1.47 1.35L5.41 20z\"/>\n",
              "  </svg>\n",
              "      </button>\n",
              "\n",
              "\n",
              "\n",
              "    <div id=\"df-a1c04e0c-c610-42ed-b4f2-8c54e4beeaec\">\n",
              "      <button class=\"colab-df-quickchart\" onclick=\"quickchart('df-a1c04e0c-c610-42ed-b4f2-8c54e4beeaec')\"\n",
              "              title=\"Suggest charts.\"\n",
              "              style=\"display:none;\">\n",
              "\n",
              "<svg xmlns=\"http://www.w3.org/2000/svg\" height=\"24px\"viewBox=\"0 0 24 24\"\n",
              "     width=\"24px\">\n",
              "    <g>\n",
              "        <path d=\"M19 3H5c-1.1 0-2 .9-2 2v14c0 1.1.9 2 2 2h14c1.1 0 2-.9 2-2V5c0-1.1-.9-2-2-2zM9 17H7v-7h2v7zm4 0h-2V7h2v10zm4 0h-2v-4h2v4z\"/>\n",
              "    </g>\n",
              "</svg>\n",
              "      </button>\n",
              "    </div>\n",
              "\n",
              "<style>\n",
              "  .colab-df-quickchart {\n",
              "    background-color: #E8F0FE;\n",
              "    border: none;\n",
              "    border-radius: 50%;\n",
              "    cursor: pointer;\n",
              "    display: none;\n",
              "    fill: #1967D2;\n",
              "    height: 32px;\n",
              "    padding: 0 0 0 0;\n",
              "    width: 32px;\n",
              "  }\n",
              "\n",
              "  .colab-df-quickchart:hover {\n",
              "    background-color: #E2EBFA;\n",
              "    box-shadow: 0px 1px 2px rgba(60, 64, 67, 0.3), 0px 1px 3px 1px rgba(60, 64, 67, 0.15);\n",
              "    fill: #174EA6;\n",
              "  }\n",
              "\n",
              "  [theme=dark] .colab-df-quickchart {\n",
              "    background-color: #3B4455;\n",
              "    fill: #D2E3FC;\n",
              "  }\n",
              "\n",
              "  [theme=dark] .colab-df-quickchart:hover {\n",
              "    background-color: #434B5C;\n",
              "    box-shadow: 0px 1px 3px 1px rgba(0, 0, 0, 0.15);\n",
              "    filter: drop-shadow(0px 1px 2px rgba(0, 0, 0, 0.3));\n",
              "    fill: #FFFFFF;\n",
              "  }\n",
              "</style>\n",
              "\n",
              "    <script>\n",
              "      async function quickchart(key) {\n",
              "        const containerElement = document.querySelector('#' + key);\n",
              "        const charts = await google.colab.kernel.invokeFunction(\n",
              "            'suggestCharts', [key], {});\n",
              "      }\n",
              "    </script>\n",
              "\n",
              "      <script>\n",
              "\n",
              "function displayQuickchartButton(domScope) {\n",
              "  let quickchartButtonEl =\n",
              "    domScope.querySelector('#df-a1c04e0c-c610-42ed-b4f2-8c54e4beeaec button.colab-df-quickchart');\n",
              "  quickchartButtonEl.style.display =\n",
              "    google.colab.kernel.accessAllowed ? 'block' : 'none';\n",
              "}\n",
              "\n",
              "        displayQuickchartButton(document);\n",
              "      </script>\n",
              "      <style>\n",
              "    .colab-df-container {\n",
              "      display:flex;\n",
              "      flex-wrap:wrap;\n",
              "      gap: 12px;\n",
              "    }\n",
              "\n",
              "    .colab-df-convert {\n",
              "      background-color: #E8F0FE;\n",
              "      border: none;\n",
              "      border-radius: 50%;\n",
              "      cursor: pointer;\n",
              "      display: none;\n",
              "      fill: #1967D2;\n",
              "      height: 32px;\n",
              "      padding: 0 0 0 0;\n",
              "      width: 32px;\n",
              "    }\n",
              "\n",
              "    .colab-df-convert:hover {\n",
              "      background-color: #E2EBFA;\n",
              "      box-shadow: 0px 1px 2px rgba(60, 64, 67, 0.3), 0px 1px 3px 1px rgba(60, 64, 67, 0.15);\n",
              "      fill: #174EA6;\n",
              "    }\n",
              "\n",
              "    [theme=dark] .colab-df-convert {\n",
              "      background-color: #3B4455;\n",
              "      fill: #D2E3FC;\n",
              "    }\n",
              "\n",
              "    [theme=dark] .colab-df-convert:hover {\n",
              "      background-color: #434B5C;\n",
              "      box-shadow: 0px 1px 3px 1px rgba(0, 0, 0, 0.15);\n",
              "      filter: drop-shadow(0px 1px 2px rgba(0, 0, 0, 0.3));\n",
              "      fill: #FFFFFF;\n",
              "    }\n",
              "  </style>\n",
              "\n",
              "      <script>\n",
              "        const buttonEl =\n",
              "          document.querySelector('#df-d250572a-5fb9-4fac-91d0-e1633b617738 button.colab-df-convert');\n",
              "        buttonEl.style.display =\n",
              "          google.colab.kernel.accessAllowed ? 'block' : 'none';\n",
              "\n",
              "        async function convertToInteractive(key) {\n",
              "          const element = document.querySelector('#df-d250572a-5fb9-4fac-91d0-e1633b617738');\n",
              "          const dataTable =\n",
              "            await google.colab.kernel.invokeFunction('convertToInteractive',\n",
              "                                                     [key], {});\n",
              "          if (!dataTable) return;\n",
              "\n",
              "          const docLinkHtml = 'Like what you see? Visit the ' +\n",
              "            '<a target=\"_blank\" href=https://colab.research.google.com/notebooks/data_table.ipynb>data table notebook</a>'\n",
              "            + ' to learn more about interactive tables.';\n",
              "          element.innerHTML = '';\n",
              "          dataTable['output_type'] = 'display_data';\n",
              "          await google.colab.output.renderOutput(dataTable, element);\n",
              "          const docLink = document.createElement('div');\n",
              "          docLink.innerHTML = docLinkHtml;\n",
              "          element.appendChild(docLink);\n",
              "        }\n",
              "      </script>\n",
              "    </div>\n",
              "  </div>\n"
            ]
          },
          "metadata": {},
          "execution_count": 10
        }
      ]
    },
    {
      "cell_type": "code",
      "source": [
        "#Save the preprocessed text into a csv file for further analysis\n",
        "df_Jobs.to_csv('Jobs.csv')"
      ],
      "metadata": {
        "id": "JMk3ohmEEFr3"
      },
      "execution_count": null,
      "outputs": []
    }
  ],
  "metadata": {
    "colab": {
      "provenance": [],
      "machine_shape": "hm",
      "gpuType": "A100"
    },
    "kernelspec": {
      "display_name": "Python 3",
      "name": "python3"
    },
    "language_info": {
      "name": "python"
    },
    "accelerator": "GPU"
  },
  "nbformat": 4,
  "nbformat_minor": 0
}