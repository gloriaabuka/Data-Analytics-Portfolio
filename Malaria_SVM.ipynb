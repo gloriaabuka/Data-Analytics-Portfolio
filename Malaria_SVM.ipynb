{
  "cells": [
    {
      "cell_type": "code",
      "execution_count": null,
      "metadata": {
        "id": "iABy8HuQOrRb"
      },
      "outputs": [],
      "source": [
        ""
      ]
    },
    {
      "cell_type": "code",
      "execution_count": 1,
      "metadata": {
        "colab": {
          "base_uri": "https://localhost:8080/"
        },
        "id": "gyPzBnNDUx3K",
        "outputId": "7c29eb66-a02e-4c4d-8420-5e6a66f66e9b"
      },
      "outputs": [
        {
          "output_type": "stream",
          "name": "stdout",
          "text": [
            "Mounted at /content/drive\n"
          ]
        }
      ],
      "source": [
        "from google.colab import drive\n",
        "drive.mount('/content/drive')"
      ]
    },
    {
      "cell_type": "code",
      "execution_count": 1,
      "metadata": {
        "id": "Ge0SMR-gVaqr"
      },
      "outputs": [],
      "source": [
        ""
      ]
    },
    {
      "cell_type": "code",
      "execution_count": 2,
      "metadata": {
        "id": "-Q2cpwOdfBjG"
      },
      "outputs": [],
      "source": [
        "#importing neccessary libraries\n",
        "import os\n",
        "import numpy as np\n",
        "import cv2\n",
        "import matplotlib.pyplot as plt\n",
        "import random\n",
        "from sklearn.svm import SVC"
      ]
    },
    {
      "cell_type": "code",
      "execution_count": 2,
      "metadata": {
        "id": "W7RWT9SkkB-1"
      },
      "outputs": [],
      "source": [
        ""
      ]
    },
    {
      "cell_type": "code",
      "execution_count": 3,
      "metadata": {
        "id": "ZYwMPpr5kGdN"
      },
      "outputs": [],
      "source": [
        "#target values\n",
        "categories = ['parasitized', 'uninfected']"
      ]
    },
    {
      "cell_type": "code",
      "execution_count": 4,
      "metadata": {
        "id": "TptLGl28lufn"
      },
      "outputs": [],
      "source": [
        "#A container for fetures and their target values\n",
        "data = []"
      ]
    },
    {
      "cell_type": "code",
      "execution_count": 5,
      "metadata": {
        "id": "siDVPPWJ2taN"
      },
      "outputs": [],
      "source": [
        "#File path\n",
        "dir = '/content/drive/MyDrive/cell_images/cell_images/train'"
      ]
    },
    {
      "cell_type": "code",
      "execution_count": 6,
      "metadata": {
        "id": "il1utgxvtubA"
      },
      "outputs": [],
      "source": [
        "\n",
        "#Read in data, resize and flatten"
      ]
    },
    {
      "cell_type": "code",
      "execution_count": 7,
      "metadata": {
        "id": "61_P1yLJkUfH"
      },
      "outputs": [],
      "source": [
        "for category in categories:\n",
        "  path = os.path.join(dir, category)\n",
        "  label = categories.index(category)\n",
        "\n",
        "  for img in os.listdir(path):\n",
        "    imgpath = os.path.join(path, img)\n",
        "    cell_image = cv2.imread(imgpath, 1)\n",
        "    try:\n",
        "      cell_image = cv2.resize(cell_image,(130, 130))\n",
        "      image = np.array(cell_image).flatten()\n",
        "      data.append([image, label])\n",
        "    except Exception as e:\n",
        "      pass\n"
      ]
    },
    {
      "cell_type": "code",
      "execution_count": 8,
      "metadata": {
        "colab": {
          "base_uri": "https://localhost:8080/"
        },
        "id": "LsIV_B4nminy",
        "outputId": "6b2857bf-0943-4560-eddf-3d4a99093218"
      },
      "outputs": [
        {
          "output_type": "stream",
          "name": "stdout",
          "text": [
            "24958\n"
          ]
        }
      ],
      "source": [
        "#Check to see how many trainning examples we have\n",
        "print(len(data))"
      ]
    },
    {
      "cell_type": "code",
      "execution_count": 8,
      "metadata": {
        "id": "egmcJ0AO8alv"
      },
      "outputs": [],
      "source": [
        ""
      ]
    },
    {
      "cell_type": "code",
      "execution_count": 9,
      "metadata": {
        "id": "8AG00zPHnLMs"
      },
      "outputs": [],
      "source": [
        "#save data to avoid repeating above steps if you choose not to\n",
        "import pickle"
      ]
    },
    {
      "cell_type": "code",
      "execution_count": 10,
      "metadata": {
        "id": "flUT0F20ncDg"
      },
      "outputs": [],
      "source": [
        "\n",
        "pick_in = open('data1.pickle', 'wb')\n",
        "pickle.dump(data, pick_in)\n",
        "pick_in.close()"
      ]
    },
    {
      "cell_type": "code",
      "execution_count": 11,
      "metadata": {
        "id": "W7oRcFUbnxV3"
      },
      "outputs": [],
      "source": [
        "#load data\n",
        "pick_in = open('data1.pickle', 'rb')\n",
        "data = pickle.load(pick_in)\n",
        "pick_in.close()"
      ]
    },
    {
      "cell_type": "code",
      "execution_count": 12,
      "metadata": {
        "id": "7fLWYKT-odSZ"
      },
      "outputs": [],
      "source": [
        "#Array of features and labels\n",
        "random.shuffle(data)\n",
        "features = []\n",
        "labels = []"
      ]
    },
    {
      "cell_type": "code",
      "execution_count": 13,
      "metadata": {
        "id": "73ZTrrr9osMP"
      },
      "outputs": [],
      "source": [
        "#Putting features and lables in the array\n",
        "for feature, label in data:\n",
        "  features.append(feature)\n",
        "  labels.append(label)"
      ]
    },
    {
      "cell_type": "code",
      "execution_count": 14,
      "metadata": {
        "id": "qVZkMONnqZqe"
      },
      "outputs": [],
      "source": [
        "#create an instance of the support vector classifier\n",
        "model = SVC()"
      ]
    },
    {
      "cell_type": "code",
      "execution_count": 15,
      "metadata": {
        "id": "LBkSOcObpx-4",
        "colab": {
          "base_uri": "https://localhost:8080/"
        },
        "outputId": "3b9547c6-3fea-4726-b0fc-a01eba6cff55"
      },
      "outputs": [
        {
          "output_type": "execute_result",
          "data": {
            "text/plain": [
              "SVC()"
            ]
          },
          "metadata": {},
          "execution_count": 15
        }
      ],
      "source": [
        "#Train it!\n",
        "model.fit(features, labels)\n"
      ]
    },
    {
      "cell_type": "code",
      "execution_count": 16,
      "metadata": {
        "id": "NdNAt1mWAbj3"
      },
      "outputs": [],
      "source": [
        "#importing some more libraries\n",
        "from sklearn.metrics import classification_report,confusion_matrix\n",
        "import seaborn as sns\n"
      ]
    },
    {
      "cell_type": "code",
      "execution_count": 17,
      "metadata": {
        "id": "LGSVoubWPUmu"
      },
      "outputs": [],
      "source": [
        "#we will now test the efficiency of our model on the test data that it has not seen before"
      ]
    },
    {
      "cell_type": "code",
      "execution_count": 18,
      "metadata": {
        "id": "YNpZC0cfJyEI"
      },
      "outputs": [],
      "source": [
        "categories2 = ['parasitized', 'uninfected']"
      ]
    },
    {
      "cell_type": "code",
      "execution_count": 19,
      "metadata": {
        "id": "zz9hN3XxqR7V"
      },
      "outputs": [],
      "source": [
        "data2 = []"
      ]
    },
    {
      "cell_type": "code",
      "execution_count": 20,
      "metadata": {
        "id": "8b7I8Nlgq82_"
      },
      "outputs": [],
      "source": [
        "dir2 = '/content/drive/MyDrive/cell_images/cell_images/test'"
      ]
    },
    {
      "cell_type": "code",
      "execution_count": 21,
      "metadata": {
        "id": "HMWXR1nyr-Yo"
      },
      "outputs": [],
      "source": [
        "for category in categories2:\n",
        "  path = os.path.join(dir2, category)\n",
        "  label = categories.index(category)\n",
        "\n",
        "  for img in os.listdir(path):\n",
        "    imgpath = os.path.join(path, img)\n",
        "    cell_image = cv2.imread(imgpath, 1)\n",
        "    try:\n",
        "      cell_image = cv2.resize(cell_image,(130, 130))\n",
        "      image = np.array(cell_image).flatten()\n",
        "      data2.append([image, label])\n",
        "    except Exception as e:\n",
        "      pass"
      ]
    },
    {
      "cell_type": "code",
      "execution_count": 22,
      "metadata": {
        "id": "8nH9UQ1_E8l_",
        "colab": {
          "base_uri": "https://localhost:8080/"
        },
        "outputId": "b3c9775e-32bb-419c-d4b1-f58882b3113b"
      },
      "outputs": [
        {
          "output_type": "stream",
          "name": "stdout",
          "text": [
            "2600\n"
          ]
        }
      ],
      "source": [
        "print(len(data2))"
      ]
    },
    {
      "cell_type": "code",
      "execution_count": 23,
      "metadata": {
        "id": "3fwkttmdL_wO"
      },
      "outputs": [],
      "source": [
        "features2 = []\n",
        "labels2 = []"
      ]
    },
    {
      "cell_type": "code",
      "execution_count": 24,
      "metadata": {
        "id": "mJoW5pIsLzqK"
      },
      "outputs": [],
      "source": [
        "for feature, label in data2:\n",
        "  features2.append(feature)\n",
        "  labels2.append(label)"
      ]
    },
    {
      "cell_type": "code",
      "execution_count": 25,
      "metadata": {
        "id": "-weE7Y3_MLS_"
      },
      "outputs": [],
      "source": [
        "prediction2 = model.predict(features2)"
      ]
    },
    {
      "cell_type": "code",
      "execution_count": 26,
      "metadata": {
        "id": "6B8TZIseMSKa"
      },
      "outputs": [],
      "source": [
        "accuracy2 = model.score(features2, labels2)"
      ]
    },
    {
      "cell_type": "code",
      "execution_count": 27,
      "metadata": {
        "id": "dbJi_18_MX2V",
        "colab": {
          "base_uri": "https://localhost:8080/"
        },
        "outputId": "34d57857-ee0e-4852-ef6e-70e5909d6fbb"
      },
      "outputs": [
        {
          "output_type": "stream",
          "name": "stdout",
          "text": [
            "0.7261538461538461\n"
          ]
        }
      ],
      "source": [
        "print(accuracy2)\n"
      ]
    },
    {
      "cell_type": "code",
      "execution_count": 28,
      "metadata": {
        "id": "cUtfvgR-aCGm",
        "colab": {
          "base_uri": "https://localhost:8080/"
        },
        "outputId": "873f717c-3621-436c-bb06-2efe4b12c9fb"
      },
      "outputs": [
        {
          "output_type": "stream",
          "name": "stdout",
          "text": [
            "              precision    recall  f1-score   support\n",
            "\n",
            "           0       0.72      0.73      0.73      1300\n",
            "           1       0.73      0.72      0.72      1300\n",
            "\n",
            "    accuracy                           0.73      2600\n",
            "   macro avg       0.73      0.73      0.73      2600\n",
            "weighted avg       0.73      0.73      0.73      2600\n",
            "\n"
          ]
        }
      ],
      "source": [
        "print(classification_report(labels2,prediction2))"
      ]
    },
    {
      "cell_type": "code",
      "execution_count": 29,
      "metadata": {
        "id": "eUkZJzjXaOai"
      },
      "outputs": [],
      "source": [
        "cm2 =confusion_matrix(labels2,prediction2)"
      ]
    },
    {
      "cell_type": "code",
      "execution_count": 30,
      "metadata": {
        "id": "BGl3HwUdaZTW",
        "colab": {
          "base_uri": "https://localhost:8080/"
        },
        "outputId": "6dec3ab4-1782-4e4c-93e2-0d7d42ae8368"
      },
      "outputs": [
        {
          "output_type": "stream",
          "name": "stdout",
          "text": [
            "[[953 347]\n",
            " [365 935]]\n"
          ]
        }
      ],
      "source": [
        "print(cm2)"
      ]
    },
    {
      "cell_type": "code",
      "execution_count": 31,
      "metadata": {
        "id": "PHgjpOUx27Ih",
        "colab": {
          "base_uri": "https://localhost:8080/",
          "height": 282
        },
        "outputId": "910be51c-66bf-4c10-b719-771ee11059e7"
      },
      "outputs": [
        {
          "output_type": "execute_result",
          "data": {
            "text/plain": [
              "<matplotlib.axes._subplots.AxesSubplot at 0x7f2b95b37fd0>"
            ]
          },
          "metadata": {},
          "execution_count": 31
        },
        {
          "output_type": "display_data",
          "data": {
            "text/plain": [
              "<Figure size 432x288 with 2 Axes>"
            ],
            "image/png": "[encoded data removed]"
          },
          "metadata": {
            "needs_background": "light"
          }
        }
      ],
      "source": [
        "sns.heatmap(cm2, annot=True, fmt='g')"
      ]
    },
    {
      "cell_type": "code",
      "execution_count": 31,
      "metadata": {
        "id": "xHJFKTSRagTm"
      },
      "outputs": [],
      "source": [
        "\n"
      ]
    },
    {
      "cell_type": "code",
      "execution_count": 31,
      "metadata": {
        "id": "9NR99ZbUatF_"
      },
      "outputs": [],
      "source": [
        ""
      ]
    },
    {
      "cell_type": "code",
      "execution_count": 31,
      "metadata": {
        "id": "bOm6aDUTbL3G"
      },
      "outputs": [],
      "source": [
        "\n"
      ]
    },
    {
      "cell_type": "code",
      "execution_count": 31,
      "metadata": {
        "id": "wHwnGposbUv7"
      },
      "outputs": [],
      "source": [
        ""
      ]
    },
    {
      "cell_type": "code",
      "execution_count": 31,
      "metadata": {
        "id": "byweflW_bzNI"
      },
      "outputs": [],
      "source": [
        ""
      ]
    },
    {
      "cell_type": "code",
      "execution_count": 31,
      "metadata": {
        "id": "PWDj6KWZcBNY"
      },
      "outputs": [],
      "source": [
        ""
      ]
    },
    {
      "cell_type": "code",
      "execution_count": 31,
      "metadata": {
        "id": "Jmpgki7ZcLrH"
      },
      "outputs": [],
      "source": [
        ""
      ]
    },
    {
      "cell_type": "code",
      "execution_count": 31,
      "metadata": {
        "id": "uS9WBKYOcXNt"
      },
      "outputs": [],
      "source": [
        ""
      ]
    },
    {
      "cell_type": "code",
      "execution_count": 31,
      "metadata": {
        "id": "xOkyZckvcjMU"
      },
      "outputs": [],
      "source": [
        ""
      ]
    },
    {
      "cell_type": "code",
      "execution_count": 31,
      "metadata": {
        "id": "EQBM6xphcqot"
      },
      "outputs": [],
      "source": [
        ""
      ]
    },
    {
      "cell_type": "code",
      "execution_count": 31,
      "metadata": {
        "id": "En7G1PQecs5Q"
      },
      "outputs": [],
      "source": [
        ""
      ]
    }
  ],
  "metadata": {
    "colab": {
      "machine_shape": "hm",
      "name": "Malaria_SVM.ipynb",
      "provenance": []
    },
    "kernelspec": {
      "display_name": "Python 3",
      "name": "python3"
    },
    "language_info": {
      "name": "python"
    }
  },
  "nbformat": 4,
  "nbformat_minor": 0
}